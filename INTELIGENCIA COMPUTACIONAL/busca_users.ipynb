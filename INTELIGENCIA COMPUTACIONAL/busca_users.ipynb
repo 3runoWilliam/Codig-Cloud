{
  "cells": [
    {
      "cell_type": "code",
      "source": [
        "users = [\n",
        "    {'id': 0, 'name': 'bora bill'},\n",
        "    {'id': 1, 'name': 'bora fi do bill'}, \n",
        "    {'id': 2, 'name': 'bora mulher do bill'}, \n",
        "    {'id': 3, 'name': 'bora tio do bill'}, \n",
        "    {'id': 4, 'name': 'bora avo do bill'}, \n",
        "    {'id': 5, 'name': 'bora primo do bill'}, \n",
        "    {'id': 6, 'name': 'bora irmao do bill'}, \n",
        "    {'id': 7, 'name': 'bora cunhado do bill'}, \n",
        "    {'id': 8, 'name': 'bora vizinho do bill'}, \n",
        "    {'id': 9, 'name': 'bora amante do bill'}, \n",
        "]"
      ],
      "metadata": {
        "id": "BRUF3gFcKXna"
      },
      "execution_count": null,
      "outputs": []
    },
    {
      "cell_type": "code",
      "source": [
        "friendship = [\n",
        "    (0,1), (0,2), (1,2), (1,3), (2,3), (3,4),\n",
        "    (4,5), (5,6), (5,7), (6,8), (7,8), (8,9),\n",
        "]"
      ],
      "metadata": {
        "id": "iJl9Z1F7Kg-l"
      },
      "execution_count": null,
      "outputs": []
    },
    {
      "cell_type": "code",
      "source": [
        "for user in users:\n",
        "  user['friendship'] = []"
      ],
      "metadata": {
        "id": "dfdD5Xs3L30t"
      },
      "execution_count": null,
      "outputs": []
    },
    {
      "cell_type": "code",
      "source": [
        "for i,j in friendship:\n",
        "  users[i]['friendship'].append(users[j])\n",
        "  users[j]['friendship'].append(users[i])"
      ],
      "metadata": {
        "id": "FoHUwvZEM-Sv"
      },
      "execution_count": null,
      "outputs": []
    },
    {
      "cell_type": "code",
      "source": [
        "def number_of_friends(user):\n",
        "  return len(user['friendship'])"
      ],
      "metadata": {
        "id": "LqlIMY-GNalz"
      },
      "execution_count": null,
      "outputs": []
    },
    {
      "cell_type": "code",
      "source": [
        "total_connections = sum(number_of_friends(users)\n",
        "                        for users in users)\n",
        "\n",
        "print(total_connections)"
      ],
      "metadata": {
        "colab": {
          "base_uri": "https://localhost:8080/"
        },
        "id": "8ivDwszAN8qf",
        "outputId": "e857cc48-07fd-4f11-aab6-b1e1e2ea5a83"
      },
      "execution_count": null,
      "outputs": [
        {
          "output_type": "stream",
          "name": "stdout",
          "text": [
            "24\n"
          ]
        }
      ]
    }
  ],
  "metadata": {
    "colab": {
      "collapsed_sections": [],
      "provenance": [],
      "toc_visible": true
    },
    "kernelspec": {
      "display_name": "Python 3",
      "name": "python3"
    }
  },
  "nbformat": 4,
  "nbformat_minor": 0
}